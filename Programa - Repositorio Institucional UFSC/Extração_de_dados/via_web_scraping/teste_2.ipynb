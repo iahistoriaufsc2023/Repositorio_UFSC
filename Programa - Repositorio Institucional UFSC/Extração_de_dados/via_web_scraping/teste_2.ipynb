{
  "nbformat": 4,
  "nbformat_minor": 0,
  "metadata": {
    "colab": {
      "provenance": [],
      "authorship_tag": "ABX9TyNFNBJrM5a0GDWLfrzeHDwp"
    },
    "kernelspec": {
      "name": "python3",
      "display_name": "Python 3"
    },
    "language_info": {
      "name": "python"
    }
  },
  "cells": [
    {
      "cell_type": "code",
      "execution_count": null,
      "metadata": {
        "id": "eLO8cqq2Pp3t"
      },
      "outputs": [],
      "source": [
        "##TESTE FINAL, ESTA SALVANDO NA PASTA CERTINHO?"
      ]
    }
  ]
}