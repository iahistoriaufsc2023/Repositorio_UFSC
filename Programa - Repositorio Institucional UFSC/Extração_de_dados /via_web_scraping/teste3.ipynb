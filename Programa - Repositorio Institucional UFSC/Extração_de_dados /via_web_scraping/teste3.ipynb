{
  "nbformat": 4,
  "nbformat_minor": 0,
  "metadata": {
    "colab": {
      "provenance": [],
      "authorship_tag": "ABX9TyN9jMeYf9YqAl7/3oJNS158",
      "include_colab_link": true
    },
    "kernelspec": {
      "name": "python3",
      "display_name": "Python 3"
    },
    "language_info": {
      "name": "python"
    }
  },
  "cells": [
    {
      "cell_type": "markdown",
      "metadata": {
        "id": "view-in-github",
        "colab_type": "text"
      },
      "source": [
        "<a href=\"https://colab.research.google.com/github/iahistoriaufsc2023/Repositorio_UFSC/blob/main/Programa%20-%20Repositorio%20Institucional%20UFSC/Extrac%CC%A7a%CC%83o_de_dados%20/via_web_scraping/teste3.ipynb\" target=\"_parent\"><img src=\"https://colab.research.google.com/assets/colab-badge.svg\" alt=\"Open In Colab\"/></a>"
      ]
    },
    {
      "cell_type": "code",
      "execution_count": null,
      "metadata": {
        "id": "tccjwwBcCLf7"
      },
      "outputs": [],
      "source": [
        "##teste notebook novo"
      ]
    }
  ]
}