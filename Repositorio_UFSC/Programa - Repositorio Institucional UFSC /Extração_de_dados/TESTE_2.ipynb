{
  "nbformat": 4,
  "nbformat_minor": 0,
  "metadata": {
    "colab": {
      "provenance": [],
      "authorship_tag": "ABX9TyMq1C7xeDh7mCqZcbcqBEBv",
      "include_colab_link": true
    },
    "kernelspec": {
      "name": "python3",
      "display_name": "Python 3"
    },
    "language_info": {
      "name": "python"
    }
  },
  "cells": [
    {
      "cell_type": "markdown",
      "metadata": {
        "id": "view-in-github",
        "colab_type": "text"
      },
      "source": [
        "<a href=\"https://colab.research.google.com/github/iahistoriaufsc2023/Repositorio_UFSC/blob/main/Repositorio_UFSC/Programa%20-%20Repositorio%20Institucional%20UFSC%20/Extrac%CC%A7a%CC%83o_de_dados/TESTE_2.ipynb\" target=\"_parent\"><img src=\"https://colab.research.google.com/assets/colab-badge.svg\" alt=\"Open In Colab\"/></a>"
      ]
    },
    {
      "cell_type": "code",
      "execution_count": null,
      "metadata": {
        "id": "GxBTtb1K56sL"
      },
      "outputs": [],
      "source": [
        "##TESTE DE NOVOS NOTEBOOKS 2"
      ]
    }
  ]
}